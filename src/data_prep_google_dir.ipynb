{
 "cells": [
  {
   "cell_type": "markdown",
   "metadata": {},
   "source": [
    "Data source: http://networkrepository.com/web-google-dir.php\n",
    "\n",
    "Same graph as https://snap.stanford.edu/data/web-Google.html but with a different indexing."
   ]
  },
  {
   "cell_type": "code",
   "execution_count": 1,
   "metadata": {},
   "outputs": [],
   "source": [
    "import networkx as nx\n",
    "import numpy as np\n",
    "import torch\n",
    "import os\n",
    "import seaborn\n",
    "\n",
    "import networkx as nx\n",
    "import numpy as np\n",
    "\n",
    "from tqdm.auto import tqdm\n",
    "import pickle\n",
    "import time\n",
    "\n",
    "import numpy as np\n",
    "import sys\n",
    "import pickle\n",
    "import seaborn as sns\n",
    "\n",
    "%matplotlib inline"
   ]
  },
  {
   "cell_type": "markdown",
   "metadata": {},
   "source": [
    "#### This notebook prepares the input data to be consumed by the Neural Network."
   ]
  },
  {
   "cell_type": "markdown",
   "metadata": {},
   "source": [
    "Run the cell below to extract the edgelist from .mtx file (the way Node2Vec expects the input). We will iterate through all the mtx files and create a corresponding .edgelist file"
   ]
  },
  {
   "cell_type": "code",
   "execution_count": 2,
   "metadata": {},
   "outputs": [
    {
     "name": "stdout",
     "output_type": "stream",
     "text": [
      "com-youtube-ungraph\t\t  web-google.7z\n",
      "com-youtube-ungraph-relabel\t  web-google-dir\n",
      "com-youtube-ungraph-relabel_half  web-google-dir.edges\n",
      "com-youtube-ungraph-relabel.txt   web-google-dir_half\n",
      "com-youtube-ungraph.txt\t\t  web-google-dir_half_noInf\n",
      "emb\t\t\t\t  web-google-dir-scc\n",
      "emb_np\t\t\t\t  web-google-dir-scc.edges\n",
      "readme.html\t\t\t  web-google-dir-scc_half\n",
      "readme.txt\t\t\t  web-google-dir-scc_half_noInf\n",
      "socfb-American75.edgelist\t  web-google-dir-wcc\n",
      "socfb-American75.mtx\t\t  web-google-dir-wcc.edges\n",
      "socfb-OR.edgelist\t\t  web-google-dir-wcc_half\n",
      "socfb-OR.mtx\t\t\t  web-google-dir-wcc_half_noInf\n",
      "web-BerkStan-relabel\t\t  web-google-dir.zip\n",
      "web-BerkStan-relabel-scc\t  web-google.edgelist\n",
      "web-BerkStan-relabel-scc_half\t  web-google.mtx\n",
      "web-BerkStan-relabel-scc.txt\t  web-Google.txt\n",
      "web-BerkStan-relabel.txt\t  web-Google.txt.gz\n",
      "web-BerkStan-relabel-wcc.txt\t  web-google.zip\n",
      "web-BerkStan.txt\n"
     ]
    }
   ],
   "source": [
    "!ls ../data"
   ]
  },
  {
   "cell_type": "code",
   "execution_count": 3,
   "metadata": {},
   "outputs": [],
   "source": [
    "import os\n",
    "\n",
    "data_files = os.listdir('../data')\n",
    "for file in data_files:\n",
    "    if file.endswith('.mtx'):\n",
    "        file_name = file.replace('.mtx', '')\n",
    "        file_edgelist = file_name+'.edgelist'\n",
    "        if not file_edgelist in data_files:\n",
    "            lines = None\n",
    "            with open('../data/'+file) as file_mtx:\n",
    "                lines = file_mtx.readlines()\n",
    "            with open('../data/'+file_edgelist, 'w') as file_edgelist:\n",
    "                file_edgelist.writelines(lines[2:])\n",
    "                print(file_edgelist, 'created')"
   ]
  },
  {
   "cell_type": "markdown",
   "metadata": {},
   "source": [
    "## Make 3 versions of the graph\n",
    "+ full (already here)\n",
    "+ largest wcc\n",
    "+ largest scc"
   ]
  },
  {
   "cell_type": "code",
   "execution_count": 140,
   "metadata": {},
   "outputs": [],
   "source": [
    "afull_g = nx.read_edgelist('../data/web-Google.txt', nodetype=int, create_using=nx.DiGraph(), comments='#')"
   ]
  },
  {
   "cell_type": "code",
   "execution_count": 143,
   "metadata": {},
   "outputs": [
    {
     "data": {
      "text/plain": [
       "32"
      ]
     },
     "execution_count": 143,
     "metadata": {},
     "output_type": "execute_result"
    }
   ],
   "source": [
    "max(nx.single_source_shortest_path_length(afull_g, 0).values())"
   ]
  },
  {
   "cell_type": "code",
   "execution_count": 142,
   "metadata": {},
   "outputs": [
    {
     "data": {
      "text/plain": [
       "32"
      ]
     },
     "execution_count": 142,
     "metadata": {},
     "output_type": "execute_result"
    }
   ],
   "source": [
    "max(nx.single_source_shortest_path_length(full_g, 1).values())"
   ]
  },
  {
   "cell_type": "code",
   "execution_count": 136,
   "metadata": {},
   "outputs": [
    {
     "data": {
      "text/plain": [
       "12"
      ]
     },
     "execution_count": 136,
     "metadata": {},
     "output_type": "execute_result"
    }
   ],
   "source": [
    "ds[244155 - 1]"
   ]
  },
  {
   "cell_type": "code",
   "execution_count": 141,
   "metadata": {},
   "outputs": [
    {
     "data": {
      "text/plain": [
       "31"
      ]
     },
     "execution_count": 141,
     "metadata": {},
     "output_type": "execute_result"
    }
   ],
   "source": [
    "nx.shortest_path_length(full_g, 449280, 509897)"
   ]
  },
  {
   "cell_type": "code",
   "execution_count": 71,
   "metadata": {},
   "outputs": [],
   "source": [
    "full_g = nx.read_edgelist('../data/web-google-dir.edges', nodetype=int, create_using=nx.DiGraph(), comments='%')"
   ]
  },
  {
   "cell_type": "code",
   "execution_count": 72,
   "metadata": {},
   "outputs": [
    {
     "name": "stdout",
     "output_type": "stream",
     "text": [
      "875713 5105039\n"
     ]
    }
   ],
   "source": [
    "print(len(full_g.nodes), len(full_g.edges))"
   ]
  },
  {
   "cell_type": "code",
   "execution_count": 73,
   "metadata": {},
   "outputs": [],
   "source": [
    "wcc = list(nx.weakly_connected_components(full_g))\n",
    "scc = list(nx.strongly_connected_components(full_g))"
   ]
  },
  {
   "cell_type": "code",
   "execution_count": 74,
   "metadata": {},
   "outputs": [],
   "source": [
    "wcc = sorted(wcc, key=lambda c: -len(c))\n",
    "scc = sorted(scc, key=lambda c: -len(c))"
   ]
  },
  {
   "cell_type": "code",
   "execution_count": 75,
   "metadata": {},
   "outputs": [
    {
     "name": "stdout",
     "output_type": "stream",
     "text": [
      "855802\n",
      "434818\n"
     ]
    }
   ],
   "source": [
    "print(len(wcc[0]))\n",
    "print(len(scc[0]))"
   ]
  },
  {
   "cell_type": "code",
   "execution_count": 12,
   "metadata": {},
   "outputs": [
    {
     "data": {
      "text/plain": [
       "(1, 2, {})"
      ]
     },
     "execution_count": 12,
     "metadata": {},
     "output_type": "execute_result"
    }
   ],
   "source": [
    "next(iter(nx.to_edgelist(full_g, nodelist=wcc[0])))"
   ]
  },
  {
   "cell_type": "code",
   "execution_count": 76,
   "metadata": {},
   "outputs": [],
   "source": [
    "with open('../data/web-google-dir-wcc.edges', 'w') as f:\n",
    "    label_map = {n: rank + 1 for rank, n in enumerate(sorted(wcc[0]))}\n",
    "    for i, j, _ in nx.to_edgelist(full_g, nodelist=wcc[0]):\n",
    "        i = label_map[i]\n",
    "        j = label_map[j]\n",
    "        print(f\"{i} {j}\", file=f)"
   ]
  },
  {
   "cell_type": "code",
   "execution_count": 77,
   "metadata": {},
   "outputs": [],
   "source": [
    "wcc_g = nx.read_edgelist('../data/web-google-dir-wcc.edges', nodetype=int, create_using=nx.DiGraph(), comments='%')"
   ]
  },
  {
   "cell_type": "code",
   "execution_count": 78,
   "metadata": {},
   "outputs": [],
   "source": [
    "with open('../data/web-google-dir-scc.edges', 'w') as f:\n",
    "    label_map = {n: rank + 1 for rank, n in enumerate(sorted(scc[0]))}\n",
    "    for i, j, _ in nx.to_edgelist(full_g):\n",
    "        if i not in scc[0] or j not in scc[0]:\n",
    "            continue\n",
    "        i = label_map[i]\n",
    "        j = label_map[j]\n",
    "        print(f\"{i} {j}\", file=f)"
   ]
  },
  {
   "cell_type": "code",
   "execution_count": 79,
   "metadata": {},
   "outputs": [
    {
     "data": {
      "text/plain": [
       "542452"
      ]
     },
     "execution_count": 79,
     "metadata": {},
     "output_type": "execute_result"
    }
   ],
   "source": [
    "j"
   ]
  },
  {
   "cell_type": "code",
   "execution_count": 80,
   "metadata": {},
   "outputs": [],
   "source": [
    "scc_g = nx.read_edgelist('../data/web-google-dir-scc.edges', nodetype=int, create_using=nx.DiGraph(), comments='%')"
   ]
  },
  {
   "cell_type": "code",
   "execution_count": 81,
   "metadata": {},
   "outputs": [
    {
     "name": "stdout",
     "output_type": "stream",
     "text": [
      "1\n",
      "355451\n"
     ]
    }
   ],
   "source": [
    "print(len(list(nx.weakly_connected_components(wcc_g))))\n",
    "print(len(list(nx.strongly_connected_components(wcc_g))))"
   ]
  },
  {
   "cell_type": "code",
   "execution_count": 82,
   "metadata": {},
   "outputs": [
    {
     "data": {
      "text/plain": [
       "855802"
      ]
     },
     "execution_count": 82,
     "metadata": {},
     "output_type": "execute_result"
    }
   ],
   "source": [
    "len(wcc_g.nodes)"
   ]
  },
  {
   "cell_type": "code",
   "execution_count": 83,
   "metadata": {},
   "outputs": [
    {
     "name": "stdout",
     "output_type": "stream",
     "text": [
      "1\n",
      "1\n"
     ]
    }
   ],
   "source": [
    "print(len(list(nx.weakly_connected_components(scc_g))))\n",
    "print(len(list(nx.strongly_connected_components(scc_g))))"
   ]
  },
  {
   "cell_type": "code",
   "execution_count": 84,
   "metadata": {},
   "outputs": [
    {
     "data": {
      "text/plain": [
       "434818"
      ]
     },
     "execution_count": 84,
     "metadata": {},
     "output_type": "execute_result"
    }
   ],
   "source": [
    "len(scc_g.nodes)"
   ]
  },
  {
   "cell_type": "markdown",
   "metadata": {},
   "source": [
    "#### Calculate landmark distances using Networkx library, instead of shitty own implementation"
   ]
  },
  {
   "cell_type": "code",
   "execution_count": 16,
   "metadata": {},
   "outputs": [],
   "source": [
    "import glob\n",
    "\n",
    "def gen_trval(graph_name, num_landmarks=(150, 50), size=(5000000, 150000), is_directed=True, folder_suffix=None, ignore_inf=False):\n",
    "    if folder_suffix is None:\n",
    "        folder_suffix = ''\n",
    "    else:\n",
    "        folder_suffix = '_' + folder_suffix\n",
    "        \n",
    "    os.makedirs(f'../data/{graph_name}{folder_suffix}', exist_ok=True)\n",
    "    \n",
    "    fs = glob.glob(f'../data/{graph_name}/landmark_distance_map_*.pickle')\n",
    "    if len(fs) == 0:\n",
    "        np.random.seed(999)\n",
    "        edgelist_path = f'../data/{graph_name}.edges'\n",
    "        graph = nx.read_edgelist(edgelist_path, nodetype=int, create_using=(nx.DiGraph() if is_directed else nx.Graph()), \n",
    "                                 comments='%')\n",
    "\n",
    "        tr_num_lmks, te_num_lmks = num_landmarks\n",
    "\n",
    "        nodes = list(graph.nodes)  # [int(i) for i in list(graph.nodes)]\n",
    "        landmarks = np.random.choice(len(nodes), sum(num_landmarks), replace=False) + 1\n",
    "\n",
    "        distance_map = {}\n",
    "        distances = np.zeros((len(nodes), ))\n",
    "\n",
    "        for landmark in tqdm(landmarks):\n",
    "            distances[:] = np.inf\n",
    "            from_lmk = dict(nx.single_source_shortest_path_length(graph, landmark))\n",
    "            for key, value in from_lmk.items():\n",
    "                distances[key-1] = value  # since node labels start from 1.\n",
    "            from_lmk = distances.copy()\n",
    "\n",
    "            distances[:] = np.inf\n",
    "            if graph.is_directed():\n",
    "                to_lmk = dict(nx.single_target_shortest_path_length(graph, landmark))\n",
    "                for key, value in to_lmk.items():\n",
    "                    distances[key-1] = value  # since node labels start from 1.\n",
    "                to_lmk = distances.copy()\n",
    "            else:\n",
    "                to_lmk = None\n",
    "\n",
    "            distance_map[landmark] = dict(\n",
    "                as_source=from_lmk, as_target=to_lmk)\n",
    "\n",
    "        save_path = f'../data/{graph_name}/landmark_distance_map_{time.time()}.pickle'\n",
    "        with open(save_path, 'wb') as f:\n",
    "            pickle.dump(dict(\n",
    "                landmarks=landmarks,\n",
    "                distance_map=distance_map,\n",
    "            ), f)\n",
    "        print('landmark_distance_map saved at', save_path)\n",
    "    else:\n",
    "        assert len(fs) == 1\n",
    "        with open(fs[0], 'rb') as f:\n",
    "            landmark_distance_map = pickle.load(f)\n",
    "        landmarks = landmark_distance_map['landmarks']\n",
    "        assert len(landmarks) == sum(num_landmarks)\n",
    "        distance_map = landmark_distance_map['distance_map']\n",
    "        print('landmark_distance_map loaded from', fs[0])\n",
    "\n",
    "    fs = glob.glob(f'../data/{graph_name}/emb_np.pickle')\n",
    "    if len(fs) == 0:\n",
    "        emd_path = f'../data/{graph_name}/emb.emd'\n",
    "        emd_map = {}\n",
    "        with open(emd_path, 'r') as file:\n",
    "            lines = file.readlines()\n",
    "            for line in lines[1:]:\n",
    "                temp = line.split(' ')\n",
    "                emd_map[np.int(temp[0])] = np.array(temp[1:], dtype=np.float32)\n",
    "\n",
    "        save_path = f'../data/{graph_name}/emb_np.pickle'\n",
    "        with open(save_path, 'wb') as f:\n",
    "            pickle.dump(emd_map, f)\n",
    "        print('emd_map saved at', save_path)\n",
    "    else:\n",
    "        assert len(fs) == 1\n",
    "        with open(fs[0], 'rb') as f:\n",
    "            emd_map = pickle.load(f)\n",
    "        print('emd_map loaded from', fs[0])\n",
    "        \n",
    "    print('size of emd_map:', sys.getsizeof(emd_map)/1024/1024,'MB')\n",
    "    print('size of distance_map:', sys.getsizeof(distance_map)/1024/1024,'MB')\n",
    "    \n",
    "    def build_xyd_from_lmks(landmarks, size, seed):\n",
    "        landmarks = sorted(landmarks)\n",
    "        set_landmarks = set(landmarks)\n",
    "        x = []\n",
    "        y = []\n",
    "        d = []\n",
    "        for lmk in tqdm(landmarks):\n",
    "            for other, dist in enumerate(distance_map[lmk]['as_source'], 1):\n",
    "                if other in set_landmarks and other < lmk:\n",
    "                    continue\n",
    "                if ignore_inf and np.isinf(dist):\n",
    "                    continue\n",
    "                x.append(emd_map[lmk])\n",
    "                y.append(emd_map[other])\n",
    "                d.append(dist)\n",
    "            if distance_map[lmk]['as_target'] is not None:\n",
    "                for other, dist in enumerate(distance_map[lmk]['as_target'], 1):\n",
    "                    if other in set_landmarks and other <= lmk:\n",
    "                        continue\n",
    "                    if ignore_inf and np.isinf(dist):\n",
    "                        continue\n",
    "                    x.append(emd_map[other])\n",
    "                    y.append(emd_map[lmk])\n",
    "                    d.append(dist)\n",
    "        assert len(x) >= size\n",
    "        np.random.seed(seed)\n",
    "        indices = np.random.permutation(len(x))[:size]\n",
    "        x = np.stack([x[i] for i in indices])\n",
    "        y = np.stack([y[i] for i in indices])\n",
    "        d = np.asarray([d[i] for i in indices], dtype=np.float32)\n",
    "        return x, y, d\n",
    "\n",
    "    fs = glob.glob(f'../data/{graph_name}{folder_suffix}/train_xyd.pickle')\n",
    "    if len(fs) == 0 or True:\n",
    "        train_xyd = build_xyd_from_lmks(landmarks[:num_landmarks[0]], size[0], seed=213)\n",
    "        \n",
    "        save_path = f'../data/{graph_name}{folder_suffix}/train_xyd.pickle'\n",
    "        with open(save_path, 'wb') as f:\n",
    "            pickle.dump(train_xyd, f)\n",
    "        print('train_xyd saved at', save_path)\n",
    "    else:\n",
    "        assert len(fs) == 1\n",
    "        with open(fs[0], 'rb') as f:\n",
    "            train_xyd = pickle.load(f)\n",
    "            assert train_xyd[0].shape[0] == size[0]\n",
    "        print('train_xyd loaded from', fs[0])\n",
    "\n",
    "    fs = glob.glob(f'../data/{graph_name}{folder_suffix}/test_xyd.pickle')\n",
    "    if len(fs) == 0 or True:\n",
    "        test_xyd = build_xyd_from_lmks(landmarks[-num_landmarks[1]:], size[1], seed=1213)\n",
    "        \n",
    "        save_path = f'../data/{graph_name}{folder_suffix}/test_xyd.pickle'\n",
    "        with open(save_path, 'wb') as f:\n",
    "            pickle.dump(test_xyd, f)\n",
    "        print('test_xyd saved at', save_path)\n",
    "    else:\n",
    "        assert len(fs) == 1\n",
    "        with open(fs[0], 'rb') as f:\n",
    "            test_xyd = pickle.load(f)\n",
    "            assert test_xyd[0].shape[0] == size[1]\n",
    "        print('test_xyd loaded from', fs[0])\n",
    "        \n",
    "    return distance_map, emd_map, train_xyd, test_xyd"
   ]
  },
  {
   "cell_type": "code",
   "execution_count": 17,
   "metadata": {},
   "outputs": [
    {
     "name": "stdout",
     "output_type": "stream",
     "text": [
      "landmark_distance_map loaded from ../data/web-google-dir/landmark_distance_map_1620705686.048063.pickle\n",
      "emd_map loaded from ../data/web-google-dir/emb_np.pickle\n",
      "size of emd_map: 40.000091552734375 MB\n",
      "size of distance_map: 0.008880615234375 MB\n"
     ]
    },
    {
     "data": {
      "application/vnd.jupyter.widget-view+json": {
       "model_id": "8b68a91f11de48c2ba8a87d3f4037615",
       "version_major": 2,
       "version_minor": 0
      },
      "text/plain": [
       "  0%|          | 0/150 [00:00<?, ?it/s]"
      ]
     },
     "metadata": {},
     "output_type": "display_data"
    },
    {
     "name": "stdout",
     "output_type": "stream",
     "text": [
      "train_xyd saved at ../data/web-google-dir/train_xyd.pickle\n"
     ]
    },
    {
     "data": {
      "application/vnd.jupyter.widget-view+json": {
       "model_id": "2d2904b1994b4bb88fe43c3b1bab35a6",
       "version_major": 2,
       "version_minor": 0
      },
      "text/plain": [
       "  0%|          | 0/50 [00:00<?, ?it/s]"
      ]
     },
     "metadata": {},
     "output_type": "display_data"
    },
    {
     "name": "stdout",
     "output_type": "stream",
     "text": [
      "test_xyd saved at ../data/web-google-dir/test_xyd.pickle\n"
     ]
    }
   ],
   "source": [
    "full = gen_trval('web-google-dir')"
   ]
  },
  {
   "cell_type": "code",
   "execution_count": 15,
   "metadata": {},
   "outputs": [
    {
     "data": {
      "text/plain": [
       "dict_keys([501444, 40364, 449280, 503610, 701916, 873900, 87483, 732392, 786757, 28880, 278604, 683932, 156922, 279496, 182034, 710070, 284198, 221315, 58702, 25737, 845423, 299870, 85443, 695150, 613799, 374118, 860586, 464129, 501063, 231854, 442747, 425251, 561186, 490989, 348720, 772496, 779705, 518070, 338779, 583031, 154485, 568810, 326073, 440443, 85584, 699296, 159280, 743750, 821819, 152218, 470257, 378582, 511659, 501157, 773799, 490310, 193093, 615895, 132998, 454707, 592736, 311006, 642623, 666079, 819245, 587398, 70094, 873225, 638035, 775658, 805844, 377143, 129446, 214205, 426221, 357460, 560305, 235303, 849697, 201496, 53559, 603901, 258342, 582135, 569619, 51081, 777464, 734433, 97533, 295288, 439273, 607550, 80658, 477812, 805999, 246500, 460571, 268375, 647151, 633854, 248368, 320012, 37097, 193716, 868237, 434376, 353614, 160546, 601414, 834015, 246393, 842264, 258257, 209654, 333315, 92183, 21855, 576610, 794411, 195008, 605649, 352571, 449099, 90336, 762972, 498689, 593873, 415962, 662485, 500623, 226151, 868678, 818484, 91878, 487122, 593441, 747198, 779343, 768497, 468892, 527330, 271985, 186252, 14421, 475838, 68640, 496017, 183523, 228365, 477135, 577952, 278503, 22886, 133888, 124184, 753150, 185920, 858119, 639874, 198349, 95507, 622835, 639488, 537057, 691448, 668448, 237756, 88235, 90878, 322535, 534222, 2940, 354784, 304790, 537557, 631610, 820702, 248147, 581421, 310866, 735045, 734581, 231574, 482737, 120552, 816525, 799500, 133547, 283831, 286571, 104122, 388969, 638978, 646017, 726917, 297378, 89323, 322501, 238620, 206989])"
      ]
     },
     "execution_count": 15,
     "metadata": {},
     "output_type": "execute_result"
    }
   ],
   "source": [
    "full[0].keys()"
   ]
  },
  {
   "cell_type": "code",
   "execution_count": 23,
   "metadata": {},
   "outputs": [],
   "source": [
    "d = full[0][449280]"
   ]
  },
  {
   "cell_type": "code",
   "execution_count": 18,
   "metadata": {},
   "outputs": [
    {
     "data": {
      "text/plain": [
       "array([ 9.,  8.,  9., ..., 12.,  9., 10.])"
      ]
     },
     "execution_count": 18,
     "metadata": {},
     "output_type": "execute_result"
    }
   ],
   "source": [
    "d['as_target']"
   ]
  },
  {
   "cell_type": "code",
   "execution_count": 29,
   "metadata": {},
   "outputs": [
    {
     "name": "stderr",
     "output_type": "stream",
     "text": [
      "<ipython-input-29-2a55c5f4856c>:1: RuntimeWarning: invalid value encountered in subtract\n",
      "  diff = np.abs(d['as_source'] - d['as_target'])\n"
     ]
    },
    {
     "data": {
      "text/plain": [
       "<AxesSubplot:ylabel='Count'>"
      ]
     },
     "execution_count": 29,
     "metadata": {},
     "output_type": "execute_result"
    },
    {
     "data": {
      "image/png": "[encoded data removed]",
      "text/plain": [
       "<Figure size 432x288 with 1 Axes>"
      ]
     },
     "metadata": {
      "needs_background": "light"
     },
     "output_type": "display_data"
    }
   ],
   "source": [
    "diff = np.abs(d['as_source'] - d['as_target'])\n",
    "diff = diff[np.isfinite(diff)]\n",
    "sns.histplot(diff, binwidth=1)"
   ]
  },
  {
   "cell_type": "code",
   "execution_count": 152,
   "metadata": {},
   "outputs": [
    {
     "data": {
      "text/plain": [
       "<AxesSubplot:ylabel='Count'>"
      ]
     },
     "execution_count": 152,
     "metadata": {},
     "output_type": "execute_result"
    },
    {
     "data": {
      "image/png": "[encoded data removed]",
      "text/plain": [
       "<Figure size 432x288 with 1 Axes>"
      ]
     },
     "metadata": {
      "needs_background": "light"
     },
     "output_type": "display_data"
    }
   ],
   "source": [
    "import seaborn as sns\n",
    "\n",
    "train_xyd = full[-2]\n",
    "sns.histplot(train_xyd[-1][np.isfinite(train_xyd[-1])], binwidth=1)"
   ]
  },
  {
   "cell_type": "code",
   "execution_count": 18,
   "metadata": {},
   "outputs": [
    {
     "name": "stdout",
     "output_type": "stream",
     "text": [
      "landmark_distance_map loaded from ../data/web-google-dir-wcc/landmark_distance_map_1620708195.2820244.pickle\n",
      "emd_map loaded from ../data/web-google-dir-wcc/emb_np.pickle\n",
      "size of emd_map: 40.000091552734375 MB\n",
      "size of distance_map: 0.008880615234375 MB\n"
     ]
    },
    {
     "data": {
      "application/vnd.jupyter.widget-view+json": {
       "model_id": "997a7efa8afe4f309a97170cef479b09",
       "version_major": 2,
       "version_minor": 0
      },
      "text/plain": [
       "  0%|          | 0/150 [00:00<?, ?it/s]"
      ]
     },
     "metadata": {},
     "output_type": "display_data"
    },
    {
     "name": "stdout",
     "output_type": "stream",
     "text": [
      "train_xyd saved at ../data/web-google-dir-wcc/train_xyd.pickle\n"
     ]
    },
    {
     "data": {
      "application/vnd.jupyter.widget-view+json": {
       "model_id": "6e98a09464cf49de844f681e2a03dad3",
       "version_major": 2,
       "version_minor": 0
      },
      "text/plain": [
       "  0%|          | 0/50 [00:00<?, ?it/s]"
      ]
     },
     "metadata": {},
     "output_type": "display_data"
    },
    {
     "name": "stdout",
     "output_type": "stream",
     "text": [
      "test_xyd saved at ../data/web-google-dir-wcc/test_xyd.pickle\n"
     ]
    }
   ],
   "source": [
    "wcc = gen_trval('web-google-dir-wcc')"
   ]
  },
  {
   "cell_type": "code",
   "execution_count": 153,
   "metadata": {},
   "outputs": [
    {
     "data": {
      "text/plain": [
       "<AxesSubplot:ylabel='Count'>"
      ]
     },
     "execution_count": 153,
     "metadata": {},
     "output_type": "execute_result"
    },
    {
     "data": {
      "image/png": "[encoded data removed]",
      "text/plain": [
       "<Figure size 432x288 with 1 Axes>"
      ]
     },
     "metadata": {
      "needs_background": "light"
     },
     "output_type": "display_data"
    }
   ],
   "source": [
    "\n",
    "train_xyd = wcc[-2]\n",
    "sns.histplot(train_xyd[-1][np.isfinite(train_xyd[-1])], binwidth=1)"
   ]
  },
  {
   "cell_type": "code",
   "execution_count": 19,
   "metadata": {},
   "outputs": [
    {
     "name": "stdout",
     "output_type": "stream",
     "text": [
      "landmark_distance_map loaded from ../data/web-google-dir-scc/landmark_distance_map_1620709060.7147622.pickle\n",
      "emd_map loaded from ../data/web-google-dir-scc/emb_np.pickle\n",
      "size of emd_map: 20.000083923339844 MB\n",
      "size of distance_map: 0.008880615234375 MB\n"
     ]
    },
    {
     "data": {
      "application/vnd.jupyter.widget-view+json": {
       "model_id": "db075be75b304b6f99cd76aa67021184",
       "version_major": 2,
       "version_minor": 0
      },
      "text/plain": [
       "  0%|          | 0/150 [00:00<?, ?it/s]"
      ]
     },
     "metadata": {},
     "output_type": "display_data"
    },
    {
     "name": "stdout",
     "output_type": "stream",
     "text": [
      "train_xyd saved at ../data/web-google-dir-scc/train_xyd.pickle\n"
     ]
    },
    {
     "data": {
      "application/vnd.jupyter.widget-view+json": {
       "model_id": "d9e99375317a41b2a28b629b27846cd7",
       "version_major": 2,
       "version_minor": 0
      },
      "text/plain": [
       "  0%|          | 0/50 [00:00<?, ?it/s]"
      ]
     },
     "metadata": {},
     "output_type": "display_data"
    },
    {
     "name": "stdout",
     "output_type": "stream",
     "text": [
      "test_xyd saved at ../data/web-google-dir-scc/test_xyd.pickle\n"
     ]
    }
   ],
   "source": [
    "scc = gen_trval('web-google-dir-scc')"
   ]
  },
  {
   "cell_type": "code",
   "execution_count": 154,
   "metadata": {},
   "outputs": [
    {
     "data": {
      "text/plain": [
       "<AxesSubplot:ylabel='Count'>"
      ]
     },
     "execution_count": 154,
     "metadata": {},
     "output_type": "execute_result"
    },
    {
     "data": {
      "image/png": "[encoded data removed]",
      "text/plain": [
       "<Figure size 432x288 with 1 Axes>"
      ]
     },
     "metadata": {
      "needs_background": "light"
     },
     "output_type": "display_data"
    }
   ],
   "source": [
    "\n",
    "train_xyd = scc[-2]\n",
    "sns.histplot(train_xyd[-1][np.isfinite(train_xyd[-1])], binwidth=1)"
   ]
  },
  {
   "cell_type": "code",
   "execution_count": 20,
   "metadata": {},
   "outputs": [
    {
     "name": "stdout",
     "output_type": "stream",
     "text": [
      "landmark_distance_map loaded from ../data/web-google-dir/landmark_distance_map_1620705686.048063.pickle\n",
      "emd_map loaded from ../data/web-google-dir/emb_np.pickle\n",
      "size of emd_map: 40.000091552734375 MB\n",
      "size of distance_map: 0.008880615234375 MB\n"
     ]
    },
    {
     "data": {
      "application/vnd.jupyter.widget-view+json": {
       "model_id": "01ea197d620a462fb7c30406dbfbd262",
       "version_major": 2,
       "version_minor": 0
      },
      "text/plain": [
       "  0%|          | 0/150 [00:00<?, ?it/s]"
      ]
     },
     "metadata": {},
     "output_type": "display_data"
    },
    {
     "name": "stdout",
     "output_type": "stream",
     "text": [
      "train_xyd saved at ../data/web-google-dir_half/train_xyd.pickle\n"
     ]
    },
    {
     "data": {
      "application/vnd.jupyter.widget-view+json": {
       "model_id": "c516fad1d543403fa510945397f0a8ac",
       "version_major": 2,
       "version_minor": 0
      },
      "text/plain": [
       "  0%|          | 0/50 [00:00<?, ?it/s]"
      ]
     },
     "metadata": {},
     "output_type": "display_data"
    },
    {
     "name": "stdout",
     "output_type": "stream",
     "text": [
      "test_xyd saved at ../data/web-google-dir_half/test_xyd.pickle\n"
     ]
    }
   ],
   "source": [
    "full_small = gen_trval('web-google-dir', size=(2500000, 150000), folder_suffix='half')"
   ]
  },
  {
   "cell_type": "code",
   "execution_count": 21,
   "metadata": {},
   "outputs": [
    {
     "name": "stdout",
     "output_type": "stream",
     "text": [
      "landmark_distance_map loaded from ../data/web-google-dir/landmark_distance_map_1620705686.048063.pickle\n",
      "emd_map loaded from ../data/web-google-dir/emb_np.pickle\n",
      "size of emd_map: 40.000091552734375 MB\n",
      "size of distance_map: 0.008880615234375 MB\n"
     ]
    },
    {
     "data": {
      "application/vnd.jupyter.widget-view+json": {
       "model_id": "824e92cbfacb4f479c3997b3cb9413d0",
       "version_major": 2,
       "version_minor": 0
      },
      "text/plain": [
       "  0%|          | 0/150 [00:00<?, ?it/s]"
      ]
     },
     "metadata": {},
     "output_type": "display_data"
    },
    {
     "name": "stdout",
     "output_type": "stream",
     "text": [
      "train_xyd saved at ../data/web-google-dir_half_noInf/train_xyd.pickle\n"
     ]
    },
    {
     "data": {
      "application/vnd.jupyter.widget-view+json": {
       "model_id": "1fcd36f379da473aaba59e2c47bdd419",
       "version_major": 2,
       "version_minor": 0
      },
      "text/plain": [
       "  0%|          | 0/50 [00:00<?, ?it/s]"
      ]
     },
     "metadata": {},
     "output_type": "display_data"
    },
    {
     "name": "stdout",
     "output_type": "stream",
     "text": [
      "test_xyd saved at ../data/web-google-dir_half_noInf/test_xyd.pickle\n"
     ]
    }
   ],
   "source": [
    "full_small_noinf = gen_trval('web-google-dir', size=(2500000, 150000), folder_suffix='half_noInf', ignore_inf=True)"
   ]
  },
  {
   "cell_type": "code",
   "execution_count": 22,
   "metadata": {},
   "outputs": [
    {
     "name": "stdout",
     "output_type": "stream",
     "text": [
      "landmark_distance_map loaded from ../data/web-google-dir-wcc/landmark_distance_map_1620708195.2820244.pickle\n",
      "emd_map loaded from ../data/web-google-dir-wcc/emb_np.pickle\n",
      "size of emd_map: 40.000091552734375 MB\n",
      "size of distance_map: 0.008880615234375 MB\n"
     ]
    },
    {
     "data": {
      "application/vnd.jupyter.widget-view+json": {
       "model_id": "417f84fc5cd247c6a4a5458056beabc8",
       "version_major": 2,
       "version_minor": 0
      },
      "text/plain": [
       "  0%|          | 0/150 [00:00<?, ?it/s]"
      ]
     },
     "metadata": {},
     "output_type": "display_data"
    },
    {
     "name": "stdout",
     "output_type": "stream",
     "text": [
      "train_xyd saved at ../data/web-google-dir-wcc_half/train_xyd.pickle\n"
     ]
    },
    {
     "data": {
      "application/vnd.jupyter.widget-view+json": {
       "model_id": "953dae7b1cee43abbac4e3e22b9d9b8b",
       "version_major": 2,
       "version_minor": 0
      },
      "text/plain": [
       "  0%|          | 0/50 [00:00<?, ?it/s]"
      ]
     },
     "metadata": {},
     "output_type": "display_data"
    },
    {
     "name": "stdout",
     "output_type": "stream",
     "text": [
      "test_xyd saved at ../data/web-google-dir-wcc_half/test_xyd.pickle\n"
     ]
    }
   ],
   "source": [
    "wcc_small = gen_trval('web-google-dir-wcc', size=(2500000, 150000), folder_suffix='half')"
   ]
  },
  {
   "cell_type": "code",
   "execution_count": 23,
   "metadata": {},
   "outputs": [
    {
     "name": "stdout",
     "output_type": "stream",
     "text": [
      "landmark_distance_map loaded from ../data/web-google-dir-wcc/landmark_distance_map_1620708195.2820244.pickle\n",
      "emd_map loaded from ../data/web-google-dir-wcc/emb_np.pickle\n",
      "size of emd_map: 40.000091552734375 MB\n",
      "size of distance_map: 0.008880615234375 MB\n"
     ]
    },
    {
     "data": {
      "application/vnd.jupyter.widget-view+json": {
       "model_id": "9402a9465b6e42beb3f5cfb714b5b949",
       "version_major": 2,
       "version_minor": 0
      },
      "text/plain": [
       "  0%|          | 0/150 [00:00<?, ?it/s]"
      ]
     },
     "metadata": {},
     "output_type": "display_data"
    },
    {
     "name": "stdout",
     "output_type": "stream",
     "text": [
      "train_xyd saved at ../data/web-google-dir-wcc_half_noInf/train_xyd.pickle\n"
     ]
    },
    {
     "data": {
      "application/vnd.jupyter.widget-view+json": {
       "model_id": "5055c00cb77d433d8b27e83d3125fd88",
       "version_major": 2,
       "version_minor": 0
      },
      "text/plain": [
       "  0%|          | 0/50 [00:00<?, ?it/s]"
      ]
     },
     "metadata": {},
     "output_type": "display_data"
    },
    {
     "name": "stdout",
     "output_type": "stream",
     "text": [
      "test_xyd saved at ../data/web-google-dir-wcc_half_noInf/test_xyd.pickle\n"
     ]
    }
   ],
   "source": [
    "wcc_small_noinf = gen_trval('web-google-dir-wcc', size=(2500000, 150000), folder_suffix='half_noInf', ignore_inf=True)"
   ]
  },
  {
   "cell_type": "code",
   "execution_count": 24,
   "metadata": {},
   "outputs": [
    {
     "name": "stdout",
     "output_type": "stream",
     "text": [
      "landmark_distance_map loaded from ../data/web-google-dir-scc/landmark_distance_map_1620709060.7147622.pickle\n",
      "emd_map loaded from ../data/web-google-dir-scc/emb_np.pickle\n",
      "size of emd_map: 20.000083923339844 MB\n",
      "size of distance_map: 0.008880615234375 MB\n"
     ]
    },
    {
     "data": {
      "application/vnd.jupyter.widget-view+json": {
       "model_id": "f4e5f09bce624e8e8471f600f69e1939",
       "version_major": 2,
       "version_minor": 0
      },
      "text/plain": [
       "  0%|          | 0/150 [00:00<?, ?it/s]"
      ]
     },
     "metadata": {},
     "output_type": "display_data"
    },
    {
     "name": "stdout",
     "output_type": "stream",
     "text": [
      "train_xyd saved at ../data/web-google-dir-scc_half/train_xyd.pickle\n"
     ]
    },
    {
     "data": {
      "application/vnd.jupyter.widget-view+json": {
       "model_id": "a2973d9c2a634370b65e3ec75e0aa1ab",
       "version_major": 2,
       "version_minor": 0
      },
      "text/plain": [
       "  0%|          | 0/50 [00:00<?, ?it/s]"
      ]
     },
     "metadata": {},
     "output_type": "display_data"
    },
    {
     "name": "stdout",
     "output_type": "stream",
     "text": [
      "test_xyd saved at ../data/web-google-dir-scc_half/test_xyd.pickle\n"
     ]
    }
   ],
   "source": [
    "scc_small = gen_trval('web-google-dir-scc', size=(2500000, 150000), folder_suffix='half')"
   ]
  },
  {
   "cell_type": "code",
   "execution_count": 43,
   "metadata": {},
   "outputs": [],
   "source": [
    "import matplotlib.pyplot as plt"
   ]
  },
  {
   "cell_type": "code",
   "execution_count": 44,
   "metadata": {},
   "outputs": [
    {
     "data": {
      "text/plain": [
       "<matplotlib.collections.PathCollection at 0x7fd829e54f40>"
      ]
     },
     "execution_count": 44,
     "metadata": {},
     "output_type": "execute_result"
    },
    {
     "data": {
      "image/png": "[encoded data removed]",
      "text/plain": [
       "<Figure size 432x288 with 1 Axes>"
      ]
     },
     "metadata": {
      "needs_background": "light"
     },
     "output_type": "display_data"
    }
   ],
   "source": [
    "plt.scatter(scc_small[0][377939]['as_source'], scc_small[0][377939]['as_target'])"
   ]
  },
  {
   "cell_type": "code",
   "execution_count": 25,
   "metadata": {},
   "outputs": [
    {
     "name": "stdout",
     "output_type": "stream",
     "text": [
      "landmark_distance_map loaded from ../data/web-google-dir-scc/landmark_distance_map_1620709060.7147622.pickle\n",
      "emd_map loaded from ../data/web-google-dir-scc/emb_np.pickle\n",
      "size of emd_map: 20.000083923339844 MB\n",
      "size of distance_map: 0.008880615234375 MB\n"
     ]
    },
    {
     "data": {
      "application/vnd.jupyter.widget-view+json": {
       "model_id": "6a0cff95900a4a2fa3f957016d88016a",
       "version_major": 2,
       "version_minor": 0
      },
      "text/plain": [
       "  0%|          | 0/150 [00:00<?, ?it/s]"
      ]
     },
     "metadata": {},
     "output_type": "display_data"
    },
    {
     "name": "stdout",
     "output_type": "stream",
     "text": [
      "train_xyd saved at ../data/web-google-dir-scc_half_noInf/train_xyd.pickle\n"
     ]
    },
    {
     "data": {
      "application/vnd.jupyter.widget-view+json": {
       "model_id": "fc994fb0df9e4abbbd0e3e48ff328396",
       "version_major": 2,
       "version_minor": 0
      },
      "text/plain": [
       "  0%|          | 0/50 [00:00<?, ?it/s]"
      ]
     },
     "metadata": {},
     "output_type": "display_data"
    },
    {
     "name": "stdout",
     "output_type": "stream",
     "text": [
      "test_xyd saved at ../data/web-google-dir-scc_half_noInf/test_xyd.pickle\n"
     ]
    }
   ],
   "source": [
    "scc_small_noinf = gen_trval('web-google-dir-scc', size=(2500000, 150000), folder_suffix='half_noInf', ignore_inf=True)"
   ]
  },
  {
   "cell_type": "code",
   "execution_count": 30,
   "metadata": {},
   "outputs": [],
   "source": [
    "from sklearn.preprocessing import MinMaxScaler\n",
    "import pickle\n",
    "from sklearn.preprocessing import StandardScaler\n",
    "\n",
    "# TODO try standardization and no normalization also and compare result\n",
    "\n",
    "scaler = StandardScaler()\n",
    "# scaler = MinMaxScaler(feature_range=(0, 1))\n",
    "x_train = scaler.fit_transform(x_train)\n",
    "x_cv = scaler.transform(x_cv)\n",
    "x_test = scaler.transform(x_test)\n",
    "\n",
    "pickle.dump((x_train, y_train), open('../outputs/train_xy_no_sampling_stdScale.pk', 'wb'))\n",
    "pickle.dump((x_cv, y_cv), open('../outputs/val_xy_no_sampling_stdScale.pk', 'wb'))\n",
    "pickle.dump((x_test, y_test), open('../outputs/test_xy_no_sampling_stdScale.pk', 'wb'))"
   ]
  }
 ],
 "metadata": {
  "kernelspec": {
   "display_name": "Python 3",
   "language": "python",
   "name": "python3"
  },
  "language_info": {
   "codemirror_mode": {
    "name": "ipython",
    "version": 3
   },
   "file_extension": ".py",
   "mimetype": "text/x-python",
   "name": "python",
   "nbconvert_exporter": "python",
   "pygments_lexer": "ipython3",
   "version": "3.8.8"
  }
 },
 "nbformat": 4,
 "nbformat_minor": 4
}
