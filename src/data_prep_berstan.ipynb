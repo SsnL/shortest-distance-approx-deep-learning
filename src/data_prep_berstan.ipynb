{
 "cells": [
  {
   "cell_type": "markdown",
   "metadata": {},
   "source": [
    "https://snap.stanford.edu/data/web-BerkStan.html"
   ]
  },
  {
   "cell_type": "code",
   "execution_count": 1,
   "metadata": {},
   "outputs": [],
   "source": [
    "import networkx as nx\n",
    "import numpy as np\n",
    "import torch\n",
    "import os\n",
    "import seaborn\n",
    "\n",
    "import networkx as nx\n",
    "import numpy as np\n",
    "\n",
    "from tqdm.auto import tqdm\n",
    "import pickle\n",
    "import time\n",
    "\n",
    "import numpy as np\n",
    "import sys\n",
    "import pickle\n",
    "import seaborn as sns\n",
    "import matplotlib.pyplot as plt\n",
    "\n",
    "%matplotlib inline"
   ]
  },
  {
   "cell_type": "markdown",
   "metadata": {},
   "source": [
    "#### This notebook prepares the input data to be consumed by the Neural Network."
   ]
  },
  {
   "cell_type": "markdown",
   "metadata": {},
   "source": [
    "Run the cell below to extract the edgelist from .mtx file (the way Node2Vec expects the input). We will iterate through all the mtx files and create a corresponding .edgelist file"
   ]
  },
  {
   "cell_type": "code",
   "execution_count": 2,
   "metadata": {},
   "outputs": [
    {
     "name": "stdout",
     "output_type": "stream",
     "text": [
      "com-youtube-ungraph\t\t  web-BerkStan.txt\n",
      "com-youtube-ungraph-relabel\t  web-google.7z\n",
      "com-youtube-ungraph-relabel_half  web-google-dir\n",
      "com-youtube-ungraph-relabel.txt   web-google-dir.edges\n",
      "com-youtube-ungraph.txt\t\t  web-google-dir_half\n",
      "emb\t\t\t\t  web-google-dir_half_noInf\n",
      "emb_np\t\t\t\t  web-google-dir-scc\n",
      "readme.html\t\t\t  web-google-dir-scc.edges\n",
      "readme.txt\t\t\t  web-google-dir-scc_half\n",
      "socfb-American75.edgelist\t  web-google-dir-scc_half_noInf\n",
      "socfb-American75.mtx\t\t  web-google-dir-wcc\n",
      "socfb-OR.edgelist\t\t  web-google-dir-wcc.edges\n",
      "socfb-OR.mtx\t\t\t  web-google-dir-wcc_half\n",
      "web-BerkStan-relabel\t\t  web-google-dir-wcc_half_noInf\n",
      "web-BerkStan-relabel_half\t  web-google-dir.zip\n",
      "web-BerkStan-relabel-scc\t  web-google.edgelist\n",
      "web-BerkStan-relabel-scc_half\t  web-google.mtx\n",
      "web-BerkStan-relabel-scc.txt\t  web-Google.txt\n",
      "web-BerkStan-relabel.txt\t  web-Google.txt.gz\n",
      "web-BerkStan-relabel-wcc.txt\t  web-google.zip\n"
     ]
    }
   ],
   "source": [
    "!ls ../data"
   ]
  },
  {
   "cell_type": "code",
   "execution_count": 3,
   "metadata": {},
   "outputs": [
    {
     "name": "stdout",
     "output_type": "stream",
     "text": [
      "test_xyd.pickle  train_xyd.pickle\n"
     ]
    }
   ],
   "source": [
    "!ls ../data/web-BerkStan-relabel_half"
   ]
  },
  {
   "cell_type": "code",
   "execution_count": 3,
   "metadata": {},
   "outputs": [],
   "source": [
    "# import os\n",
    "\n",
    "# data_files = os.listdir('../data')\n",
    "# for file in data_files:\n",
    "#     if file.endswith('.mtx'):\n",
    "#         file_name = file.replace('.mtx', '')\n",
    "#         file_edgelist = file_name+'.edgelist'\n",
    "#         if not file_edgelist in data_files:\n",
    "#             lines = None\n",
    "#             with open('../data/'+file) as file_mtx:\n",
    "#                 lines = file_mtx.readlines()\n",
    "#             with open('../data/'+file_edgelist, 'w') as file_edgelist:\n",
    "#                 file_edgelist.writelines(lines[2:])\n",
    "#                 print(file_edgelist, 'created')"
   ]
  },
  {
   "cell_type": "markdown",
   "metadata": {},
   "source": [
    "## Make 3 versions of the graph\n",
    "+ full (already here)\n",
    "+ largest wcc\n",
    "+ largest scc"
   ]
  },
  {
   "cell_type": "code",
   "execution_count": 5,
   "metadata": {},
   "outputs": [],
   "source": [
    "g = nx.read_edgelist('../data/web-BerkStan.txt', nodetype=int, create_using=nx.DiGraph(), comments='#')"
   ]
  },
  {
   "cell_type": "code",
   "execution_count": 6,
   "metadata": {},
   "outputs": [
    {
     "data": {
      "text/plain": [
       "685230"
      ]
     },
     "execution_count": 6,
     "metadata": {},
     "output_type": "execute_result"
    }
   ],
   "source": [
    "len(g.nodes)"
   ]
  },
  {
   "cell_type": "code",
   "execution_count": 7,
   "metadata": {},
   "outputs": [
    {
     "data": {
      "text/plain": [
       "7600595"
      ]
     },
     "execution_count": 7,
     "metadata": {},
     "output_type": "execute_result"
    }
   ],
   "source": [
    "len(g.edges)"
   ]
  },
  {
   "cell_type": "code",
   "execution_count": 9,
   "metadata": {},
   "outputs": [],
   "source": [
    "with open('../data/web-BerkStan-relabel.txt', 'w') as f:\n",
    "    label_map = {n: rank + 1 for rank, n in enumerate(sorted(g.nodes))}\n",
    "    for i, j, _ in nx.to_edgelist(g):\n",
    "        i = label_map[i]\n",
    "        j = label_map[j]\n",
    "        print(f\"{i} {j}\", file=f)"
   ]
  },
  {
   "cell_type": "code",
   "execution_count": 10,
   "metadata": {},
   "outputs": [],
   "source": [
    "g = nx.read_edgelist('../data/web-BerkStan-relabel.txt', nodetype=int, create_using=nx.DiGraph(), comments='#')"
   ]
  },
  {
   "cell_type": "code",
   "execution_count": 11,
   "metadata": {},
   "outputs": [
    {
     "data": {
      "text/plain": [
       "1"
      ]
     },
     "execution_count": 11,
     "metadata": {},
     "output_type": "execute_result"
    }
   ],
   "source": [
    "min(g.nodes)"
   ]
  },
  {
   "cell_type": "code",
   "execution_count": 12,
   "metadata": {},
   "outputs": [
    {
     "data": {
      "text/plain": [
       "685230"
      ]
     },
     "execution_count": 12,
     "metadata": {},
     "output_type": "execute_result"
    }
   ],
   "source": [
    "max(g.nodes)"
   ]
  },
  {
   "cell_type": "code",
   "execution_count": 13,
   "metadata": {},
   "outputs": [],
   "source": [
    "full_g = g"
   ]
  },
  {
   "cell_type": "code",
   "execution_count": 14,
   "metadata": {},
   "outputs": [],
   "source": [
    "wcc = list(nx.weakly_connected_components(full_g))\n",
    "scc = list(nx.strongly_connected_components(full_g))"
   ]
  },
  {
   "cell_type": "code",
   "execution_count": 15,
   "metadata": {},
   "outputs": [],
   "source": [
    "wcc = sorted(wcc, key=lambda c: -len(c))\n",
    "scc = sorted(scc, key=lambda c: -len(c))"
   ]
  },
  {
   "cell_type": "code",
   "execution_count": 16,
   "metadata": {},
   "outputs": [
    {
     "name": "stdout",
     "output_type": "stream",
     "text": [
      "654782\n",
      "334857\n"
     ]
    }
   ],
   "source": [
    "print(len(wcc[0]))\n",
    "print(len(scc[0]))"
   ]
  },
  {
   "cell_type": "code",
   "execution_count": 17,
   "metadata": {},
   "outputs": [],
   "source": [
    "with open('../data/web-BerkStan-relabel-wcc.txt', 'w') as f:\n",
    "    label_map = {n: rank + 1 for rank, n in enumerate(sorted(wcc[0]))}\n",
    "    for i, j, _ in nx.to_edgelist(full_g, nodelist=wcc[0]):\n",
    "        i = label_map[i]\n",
    "        j = label_map[j]\n",
    "        print(f\"{i} {j}\", file=f)"
   ]
  },
  {
   "cell_type": "code",
   "execution_count": 18,
   "metadata": {},
   "outputs": [],
   "source": [
    "wcc_g = nx.read_edgelist('../data/web-BerkStan-relabel-wcc.txt', nodetype=int, create_using=nx.DiGraph(), comments='%')"
   ]
  },
  {
   "cell_type": "code",
   "execution_count": 19,
   "metadata": {},
   "outputs": [],
   "source": [
    "with open('../data/web-BerkStan-relabel-scc.txt', 'w') as f:\n",
    "    label_map = {n: rank + 1 for rank, n in enumerate(sorted(scc[0]))}\n",
    "    for i, j, _ in nx.to_edgelist(full_g):\n",
    "        if i not in scc[0] or j not in scc[0]:\n",
    "            continue\n",
    "        i = label_map[i]\n",
    "        j = label_map[j]\n",
    "        print(f\"{i} {j}\", file=f)"
   ]
  },
  {
   "cell_type": "code",
   "execution_count": 20,
   "metadata": {},
   "outputs": [
    {
     "data": {
      "text/plain": [
       "685156"
      ]
     },
     "execution_count": 20,
     "metadata": {},
     "output_type": "execute_result"
    }
   ],
   "source": [
    "j"
   ]
  },
  {
   "cell_type": "code",
   "execution_count": 21,
   "metadata": {},
   "outputs": [],
   "source": [
    "scc_g = nx.read_edgelist('../data/web-BerkStan-relabel-scc.txt', nodetype=int, create_using=nx.DiGraph(), comments='%')"
   ]
  },
  {
   "cell_type": "code",
   "execution_count": 22,
   "metadata": {},
   "outputs": [
    {
     "name": "stdout",
     "output_type": "stream",
     "text": [
      "1\n",
      "107858\n"
     ]
    }
   ],
   "source": [
    "print(len(list(nx.weakly_connected_components(wcc_g))))\n",
    "print(len(list(nx.strongly_connected_components(wcc_g))))"
   ]
  },
  {
   "cell_type": "code",
   "execution_count": 23,
   "metadata": {},
   "outputs": [
    {
     "data": {
      "text/plain": [
       "654782"
      ]
     },
     "execution_count": 23,
     "metadata": {},
     "output_type": "execute_result"
    }
   ],
   "source": [
    "len(wcc_g.nodes)"
   ]
  },
  {
   "cell_type": "code",
   "execution_count": 24,
   "metadata": {},
   "outputs": [
    {
     "name": "stdout",
     "output_type": "stream",
     "text": [
      "1\n",
      "1\n"
     ]
    }
   ],
   "source": [
    "print(len(list(nx.weakly_connected_components(scc_g))))\n",
    "print(len(list(nx.strongly_connected_components(scc_g))))"
   ]
  },
  {
   "cell_type": "code",
   "execution_count": 25,
   "metadata": {},
   "outputs": [
    {
     "data": {
      "text/plain": [
       "334857"
      ]
     },
     "execution_count": 25,
     "metadata": {},
     "output_type": "execute_result"
    }
   ],
   "source": [
    "len(scc_g.nodes)"
   ]
  },
  {
   "cell_type": "code",
   "execution_count": 33,
   "metadata": {},
   "outputs": [],
   "source": [
    "dt2 = dict(nx.single_target_shortest_path_length(scc_g, 2))"
   ]
  },
  {
   "cell_type": "code",
   "execution_count": 32,
   "metadata": {},
   "outputs": [],
   "source": [
    "d2t = dict(nx.single_source_shortest_path_length(scc_g, 2))"
   ]
  },
  {
   "cell_type": "code",
   "execution_count": 38,
   "metadata": {},
   "outputs": [
    {
     "data": {
      "text/plain": [
       "<matplotlib.collections.PathCollection at 0x7fcfebf82b80>"
      ]
     },
     "execution_count": 38,
     "metadata": {},
     "output_type": "execute_result"
    },
    {
     "data": {
      "image/png": "[encoded data removed]",
      "text/plain": [
       "<Figure size 432x288 with 1 Axes>"
      ]
     },
     "metadata": {
      "needs_background": "light"
     },
     "output_type": "display_data"
    }
   ],
   "source": [
    "plt.scatter(\n",
    "    [d2t[i + 1] for i in range(len(scc_g.nodes))],\n",
    "    [dt2[i + 1] for i in range(len(scc_g.nodes))],\n",
    "    s=0.2\n",
    ")"
   ]
  },
  {
   "cell_type": "markdown",
   "metadata": {},
   "source": [
    "#### Calculate landmark distances using Networkx library, instead of shitty own implementation"
   ]
  },
  {
   "cell_type": "code",
   "execution_count": 91,
   "metadata": {},
   "outputs": [],
   "source": [
    "import glob\n",
    "\n",
    "def gen_trval(graph_name, num_landmarks=(150, 50), size=(5000000, 150000), is_directed=True, folder_suffix=None, ignore_inf=False):\n",
    "    if folder_suffix is None:\n",
    "        folder_suffix = ''\n",
    "    else:\n",
    "        folder_suffix = '_' + folder_suffix\n",
    "        \n",
    "    os.makedirs(f'../data/{graph_name}{folder_suffix}', exist_ok=True)\n",
    "    \n",
    "    fs = glob.glob(f'../data/{graph_name}/landmark_distance_map_*.pickle')\n",
    "    if len(fs) == 0:\n",
    "        np.random.seed(999)\n",
    "        edgelist_path = f'../data/{graph_name}.txt'\n",
    "        graph = nx.read_edgelist(edgelist_path, nodetype=int, create_using=(nx.DiGraph() if is_directed else nx.Graph()), \n",
    "                                 comments='#')\n",
    "\n",
    "        tr_num_lmks, te_num_lmks = num_landmarks\n",
    "\n",
    "        nodes = list(graph.nodes)  # [int(i) for i in list(graph.nodes)]\n",
    "        landmarks = np.random.choice(len(nodes), sum(num_landmarks), replace=False) + 1\n",
    "\n",
    "        distance_map = {}\n",
    "        distances = np.zeros((len(nodes), ))\n",
    "\n",
    "        for landmark in tqdm(landmarks):\n",
    "            distances[:] = np.inf\n",
    "            from_lmk = dict(nx.single_source_shortest_path_length(graph, landmark))\n",
    "            for key, value in from_lmk.items():\n",
    "                distances[key-1] = value  # since node labels start from 1.\n",
    "            from_lmk = distances.copy()\n",
    "\n",
    "            distances[:] = np.inf\n",
    "            if graph.is_directed():\n",
    "                to_lmk = dict(nx.single_target_shortest_path_length(graph, landmark))\n",
    "                for key, value in to_lmk.items():\n",
    "                    distances[key-1] = value  # since node labels start from 1.\n",
    "                to_lmk = distances.copy()\n",
    "            else:\n",
    "                to_lmk = None\n",
    "\n",
    "            distance_map[landmark] = dict(\n",
    "                as_source=from_lmk, as_target=to_lmk)\n",
    "\n",
    "        save_path = f'../data/{graph_name}/landmark_distance_map_{time.time()}.pickle'\n",
    "        with open(save_path, 'wb') as f:\n",
    "            pickle.dump(dict(\n",
    "                landmarks=landmarks,\n",
    "                distance_map=distance_map,\n",
    "            ), f)\n",
    "        print('landmark_distance_map saved at', save_path)\n",
    "    else:\n",
    "        assert len(fs) == 1\n",
    "        with open(fs[0], 'rb') as f:\n",
    "            landmark_distance_map = pickle.load(f)\n",
    "        landmarks = landmark_distance_map['landmarks']\n",
    "        assert len(landmarks) == sum(num_landmarks)\n",
    "        distance_map = landmark_distance_map['distance_map']\n",
    "        print('landmark_distance_map loaded from', fs[0])\n",
    "\n",
    "    fs = glob.glob(f'../data/{graph_name}/emb_np.pickle')\n",
    "    if len(fs) == 0:\n",
    "        emd_path = f'../data/{graph_name}/emb.emd'\n",
    "        emd_map = {}\n",
    "        with open(emd_path, 'r') as file:\n",
    "            lines = file.readlines()\n",
    "            for line in lines[1:]:\n",
    "                temp = line.split(' ')\n",
    "                emd_map[np.int(temp[0])] = np.array(temp[1:], dtype=np.float32)\n",
    "\n",
    "        save_path = f'../data/{graph_name}/emb_np.pickle'\n",
    "        with open(save_path, 'wb') as f:\n",
    "            pickle.dump(emd_map, f)\n",
    "        print('emd_map saved at', save_path)\n",
    "    else:\n",
    "        assert len(fs) == 1\n",
    "        with open(fs[0], 'rb') as f:\n",
    "            emd_map = pickle.load(f)\n",
    "        print('emd_map loaded from', fs[0])\n",
    "        \n",
    "    print('size of emd_map:', sys.getsizeof(emd_map)/1024/1024,'MB')\n",
    "    print('size of distance_map:', sys.getsizeof(distance_map)/1024/1024,'MB')\n",
    "    \n",
    "    def build_xyd_from_lmks(landmarks, size, seed):\n",
    "        landmarks = sorted(landmarks)\n",
    "        set_landmarks = set(landmarks)\n",
    "        x = []\n",
    "        y = []\n",
    "        d = []\n",
    "        for lmk in tqdm(landmarks):\n",
    "            for other, dist in enumerate(distance_map[lmk]['as_source'], 1):\n",
    "                if other in set_landmarks and other < lmk:\n",
    "                    continue\n",
    "                if ignore_inf and np.isinf(dist):\n",
    "                    continue\n",
    "                x.append(emd_map[lmk])\n",
    "                y.append(emd_map[other])\n",
    "                d.append(dist)\n",
    "            if distance_map[lmk]['as_target'] is not None:\n",
    "                for other, dist in enumerate(distance_map[lmk]['as_target'], 1):\n",
    "                    if other in set_landmarks and other <= lmk:\n",
    "                        continue\n",
    "                    if ignore_inf and np.isinf(dist):\n",
    "                        continue\n",
    "                    x.append(emd_map[other])\n",
    "                    y.append(emd_map[lmk])\n",
    "                    d.append(dist)\n",
    "        assert len(x) >= size\n",
    "        np.random.seed(seed)\n",
    "        indices = np.random.permutation(len(x))[:size]\n",
    "        x = np.stack([x[i] for i in indices])\n",
    "        y = np.stack([y[i] for i in indices])\n",
    "        d = np.asarray([d[i] for i in indices], dtype=np.float32)\n",
    "        return x, y, d\n",
    "\n",
    "    fs = glob.glob(f'../data/{graph_name}{folder_suffix}/train_xyd.pickle')\n",
    "    if len(fs) == 0 or True:\n",
    "        train_xyd = build_xyd_from_lmks(landmarks[:num_landmarks[0]], size[0], seed=213)\n",
    "        \n",
    "        save_path = f'../data/{graph_name}{folder_suffix}/train_xyd.pickle'\n",
    "        with open(save_path, 'wb') as f:\n",
    "            pickle.dump(train_xyd, f)\n",
    "        print('train_xyd saved at', save_path)\n",
    "    else:\n",
    "        assert len(fs) == 1\n",
    "        with open(fs[0], 'rb') as f:\n",
    "            train_xyd = pickle.load(f)\n",
    "            assert train_xyd[0].shape[0] == size[0]\n",
    "        print('train_xyd loaded from', fs[0])\n",
    "\n",
    "    fs = glob.glob(f'../data/{graph_name}{folder_suffix}/test_xyd.pickle')\n",
    "    if len(fs) == 0 or True:\n",
    "        test_xyd = build_xyd_from_lmks(landmarks[-num_landmarks[1]:], size[1], seed=1213)\n",
    "        \n",
    "        save_path = f'../data/{graph_name}{folder_suffix}/test_xyd.pickle'\n",
    "        with open(save_path, 'wb') as f:\n",
    "            pickle.dump(test_xyd, f)\n",
    "        print('test_xyd saved at', save_path)\n",
    "    else:\n",
    "        assert len(fs) == 1\n",
    "        with open(fs[0], 'rb') as f:\n",
    "            test_xyd = pickle.load(f)\n",
    "            assert test_xyd[0].shape[0] == size[1]\n",
    "        print('test_xyd loaded from', fs[0])\n",
    "        \n",
    "    return distance_map, emd_map, train_xyd, test_xyd"
   ]
  },
  {
   "cell_type": "code",
   "execution_count": 152,
   "metadata": {},
   "outputs": [
    {
     "data": {
      "text/plain": [
       "<AxesSubplot:ylabel='Count'>"
      ]
     },
     "execution_count": 152,
     "metadata": {},
     "output_type": "execute_result"
    },
    {
     "data": {
      "image/png": "[encoded data removed]",
      "text/plain": [
       "<Figure size 432x288 with 1 Axes>"
      ]
     },
     "metadata": {
      "needs_background": "light"
     },
     "output_type": "display_data"
    }
   ],
   "source": [
    "import seaborn as sns\n",
    "\n",
    "train_xyd = full[-2]\n",
    "sns.histplot(train_xyd[-1][np.isfinite(train_xyd[-1])], binwidth=1)"
   ]
  },
  {
   "cell_type": "code",
   "execution_count": 93,
   "metadata": {},
   "outputs": [
    {
     "name": "stdout",
     "output_type": "stream",
     "text": [
      "landmark_distance_map loaded from ../data/web-BerkStan-relabel/landmark_distance_map_1620969515.4442902.pickle\n",
      "emd_map loaded from ../data/web-BerkStan-relabel/emb_np.pickle\n",
      "size of emd_map: 20.000083923339844 MB\n",
      "size of distance_map: 0.008880615234375 MB\n"
     ]
    },
    {
     "data": {
      "application/vnd.jupyter.widget-view+json": {
       "model_id": "d7a4cd8d327e40c3915457f1431e7db2",
       "version_major": 2,
       "version_minor": 0
      },
      "text/plain": [
       "  0%|          | 0/150 [00:00<?, ?it/s]"
      ]
     },
     "metadata": {},
     "output_type": "display_data"
    },
    {
     "name": "stdout",
     "output_type": "stream",
     "text": [
      "train_xyd saved at ../data/web-BerkStan-relabel_half/train_xyd.pickle\n"
     ]
    },
    {
     "data": {
      "application/vnd.jupyter.widget-view+json": {
       "model_id": "5ef984ab0490442f903c11894aa0efaf",
       "version_major": 2,
       "version_minor": 0
      },
      "text/plain": [
       "  0%|          | 0/50 [00:00<?, ?it/s]"
      ]
     },
     "metadata": {},
     "output_type": "display_data"
    },
    {
     "name": "stdout",
     "output_type": "stream",
     "text": [
      "test_xyd saved at ../data/web-BerkStan-relabel_half/test_xyd.pickle\n"
     ]
    }
   ],
   "source": [
    "full_small = gen_trval('web-BerkStan-relabel', size=(2500000, 150000), folder_suffix='half')"
   ]
  },
  {
   "cell_type": "code",
   "execution_count": 94,
   "metadata": {},
   "outputs": [
    {
     "name": "stdout",
     "output_type": "stream",
     "text": [
      "landmark_distance_map loaded from ../data/web-BerkStan-relabel-scc/landmark_distance_map_1620959285.7641025.pickle\n",
      "emd_map loaded from ../data/web-BerkStan-relabel-scc/emb_np.pickle\n",
      "size of emd_map: 10.000091552734375 MB\n",
      "size of distance_map: 0.008880615234375 MB\n"
     ]
    },
    {
     "data": {
      "application/vnd.jupyter.widget-view+json": {
       "model_id": "916e709a6d3b409dab8c604ebc32e2f5",
       "version_major": 2,
       "version_minor": 0
      },
      "text/plain": [
       "  0%|          | 0/150 [00:00<?, ?it/s]"
      ]
     },
     "metadata": {},
     "output_type": "display_data"
    },
    {
     "name": "stdout",
     "output_type": "stream",
     "text": [
      "train_xyd saved at ../data/web-BerkStan-relabel-scc/train_xyd.pickle\n"
     ]
    },
    {
     "data": {
      "application/vnd.jupyter.widget-view+json": {
       "model_id": "3e5ebede535948209947e37bfd04b98d",
       "version_major": 2,
       "version_minor": 0
      },
      "text/plain": [
       "  0%|          | 0/50 [00:00<?, ?it/s]"
      ]
     },
     "metadata": {},
     "output_type": "display_data"
    },
    {
     "name": "stdout",
     "output_type": "stream",
     "text": [
      "test_xyd saved at ../data/web-BerkStan-relabel-scc/test_xyd.pickle\n"
     ]
    }
   ],
   "source": [
    "scc = gen_trval('web-BerkStan-relabel-scc', size=(5000000, 150000))"
   ]
  },
  {
   "cell_type": "code",
   "execution_count": 92,
   "metadata": {},
   "outputs": [
    {
     "name": "stdout",
     "output_type": "stream",
     "text": [
      "landmark_distance_map loaded from ../data/web-BerkStan-relabel-scc/landmark_distance_map_1620959285.7641025.pickle\n",
      "emd_map loaded from ../data/web-BerkStan-relabel-scc/emb_np.pickle\n",
      "size of emd_map: 10.000091552734375 MB\n",
      "size of distance_map: 0.008880615234375 MB\n"
     ]
    },
    {
     "data": {
      "application/vnd.jupyter.widget-view+json": {
       "model_id": "6b6648403b1b44c1b5e6af7ca18c769d",
       "version_major": 2,
       "version_minor": 0
      },
      "text/plain": [
       "  0%|          | 0/150 [00:00<?, ?it/s]"
      ]
     },
     "metadata": {},
     "output_type": "display_data"
    },
    {
     "name": "stdout",
     "output_type": "stream",
     "text": [
      "train_xyd saved at ../data/web-BerkStan-relabel-scc_half/train_xyd.pickle\n"
     ]
    },
    {
     "data": {
      "application/vnd.jupyter.widget-view+json": {
       "model_id": "11c541007c3f4bb181ac69e4e185602c",
       "version_major": 2,
       "version_minor": 0
      },
      "text/plain": [
       "  0%|          | 0/50 [00:00<?, ?it/s]"
      ]
     },
     "metadata": {},
     "output_type": "display_data"
    },
    {
     "name": "stdout",
     "output_type": "stream",
     "text": [
      "test_xyd saved at ../data/web-BerkStan-relabel-scc_half/test_xyd.pickle\n"
     ]
    }
   ],
   "source": [
    "scc_small = gen_trval('web-BerkStan-relabel-scc', size=(2500000, 150000), folder_suffix='half')"
   ]
  },
  {
   "cell_type": "code",
   "execution_count": 75,
   "metadata": {},
   "outputs": [
    {
     "data": {
      "text/plain": [
       "581.0"
      ]
     },
     "execution_count": 75,
     "metadata": {},
     "output_type": "execute_result"
    }
   ],
   "source": [
    "train_xyd[-1].max()"
   ]
  },
  {
   "cell_type": "code",
   "execution_count": 77,
   "metadata": {},
   "outputs": [
    {
     "name": "stdout",
     "output_type": "stream",
     "text": [
      "com-youtube-ungraph\t\t  web-google.7z\n",
      "com-youtube-ungraph-relabel\t  web-google-dir\n",
      "com-youtube-ungraph-relabel_half  web-google-dir.edges\n",
      "com-youtube-ungraph-relabel.txt   web-google-dir_half\n",
      "com-youtube-ungraph.txt\t\t  web-google-dir_half_noInf\n",
      "emb\t\t\t\t  web-google-dir-scc\n",
      "emb_np\t\t\t\t  web-google-dir-scc.edges\n",
      "readme.html\t\t\t  web-google-dir-scc_half\n",
      "readme.txt\t\t\t  web-google-dir-scc_half_noInf\n",
      "socfb-American75.edgelist\t  web-google-dir-wcc\n",
      "socfb-American75.mtx\t\t  web-google-dir-wcc.edges\n",
      "socfb-OR.edgelist\t\t  web-google-dir-wcc_half\n",
      "socfb-OR.mtx\t\t\t  web-google-dir-wcc_half_noInf\n",
      "web-BerkStan-relabel\t\t  web-google-dir.zip\n",
      "web-BerkStan-relabel-scc\t  web-google.edgelist\n",
      "web-BerkStan-relabel-scc_half\t  web-google.mtx\n",
      "web-BerkStan-relabel-scc.txt\t  web-Google.txt\n",
      "web-BerkStan-relabel.txt\t  web-Google.txt.gz\n",
      "web-BerkStan-relabel-wcc.txt\t  web-google.zip\n",
      "web-BerkStan.txt\n"
     ]
    }
   ],
   "source": [
    "!ls ../data"
   ]
  },
  {
   "cell_type": "code",
   "execution_count": 79,
   "metadata": {},
   "outputs": [
    {
     "data": {
      "text/plain": [
       "<AxesSubplot:ylabel='Count'>"
      ]
     },
     "execution_count": 79,
     "metadata": {},
     "output_type": "execute_result"
    },
    {
     "data": {
      "image/png": "[encoded data removed]",
      "text/plain": [
       "<Figure size 432x288 with 1 Axes>"
      ]
     },
     "metadata": {
      "needs_background": "light"
     },
     "output_type": "display_data"
    }
   ],
   "source": [
    "import seaborn as sns\n",
    "\n",
    "train_xyd = scc_small[-2]\n",
    "sns.histplot(train_xyd[-1], binwidth=10)"
   ]
  },
  {
   "cell_type": "code",
   "execution_count": 83,
   "metadata": {},
   "outputs": [
    {
     "data": {
      "text/plain": [
       "<AxesSubplot:ylabel='Count'>"
      ]
     },
     "execution_count": 83,
     "metadata": {},
     "output_type": "execute_result"
    },
    {
     "data": {
      "image/png": "[encoded data removed]",
      "text/plain": [
       "<Figure size 432x288 with 1 Axes>"
      ]
     },
     "metadata": {
      "needs_background": "light"
     },
     "output_type": "display_data"
    }
   ],
   "source": [
    "\n",
    "sns.histplot(0.9 ** train_xyd[-1], binwidth=0.05)"
   ]
  },
  {
   "cell_type": "code",
   "execution_count": 43,
   "metadata": {},
   "outputs": [],
   "source": [
    "import matplotlib.pyplot as plt"
   ]
  },
  {
   "cell_type": "code",
   "execution_count": 55,
   "metadata": {},
   "outputs": [
    {
     "data": {
      "text/plain": [
       "930"
      ]
     },
     "execution_count": 55,
     "metadata": {},
     "output_type": "execute_result"
    }
   ],
   "source": [
    "min(scc_small[0].keys())"
   ]
  },
  {
   "cell_type": "code",
   "execution_count": 52,
   "metadata": {},
   "outputs": [
    {
     "data": {
      "text/plain": [
       "array([ 4.,  5.,  6., ..., 15., 15., 15.])"
      ]
     },
     "execution_count": 52,
     "metadata": {},
     "output_type": "execute_result"
    }
   ],
   "source": [
    "scc_small[0][108659]['as_source']"
   ]
  },
  {
   "cell_type": "code",
   "execution_count": 66,
   "metadata": {},
   "outputs": [
    {
     "data": {
      "text/plain": [
       "array([254222, 307846, 254547, ...,  86928,  86927,  86926])"
      ]
     },
     "execution_count": 66,
     "metadata": {},
     "output_type": "execute_result"
    }
   ],
   "source": [
    "np.argsort(scc_small[0][254223]['as_source'])"
   ]
  },
  {
   "cell_type": "code",
   "execution_count": 72,
   "metadata": {},
   "outputs": [
    {
     "name": "stdout",
     "output_type": "stream",
     "text": [
      "202048\n"
     ]
    }
   ],
   "source": [
    "for i in np.argsort(scc_small[0][254223]['as_source'])[::-1]:\n",
    "    if i + 1 in scc_small[0].keys():\n",
    "        print(i + 1)\n",
    "        break"
   ]
  },
  {
   "cell_type": "code",
   "execution_count": 73,
   "metadata": {},
   "outputs": [
    {
     "data": {
      "text/plain": [
       "<matplotlib.collections.PathCollection at 0x7fcf82e22820>"
      ]
     },
     "execution_count": 73,
     "metadata": {},
     "output_type": "execute_result"
    },
    {
     "data": {
      "image/png": "[encoded data removed]",
      "text/plain": [
       "<Figure size 432x288 with 1 Axes>"
      ]
     },
     "metadata": {
      "needs_background": "light"
     },
     "output_type": "display_data"
    }
   ],
   "source": [
    "plt.scatter(scc_small[0][202048]['as_source'], scc_small[0][202048]['as_target'], s=0.1)"
   ]
  },
  {
   "cell_type": "code",
   "execution_count": 37,
   "metadata": {},
   "outputs": [
    {
     "name": "stdout",
     "output_type": "stream",
     "text": [
      "landmark_distance_map loaded from ../data/web-google-dir-scc/landmark_distance_map_1620709060.7147622.pickle\n",
      "emd_map loaded from ../data/web-google-dir-scc/emb_np.pickle\n",
      "size of emd_map: 20.000083923339844 MB\n",
      "size of distance_map: 0.008880615234375 MB\n"
     ]
    },
    {
     "data": {
      "application/vnd.jupyter.widget-view+json": {
       "model_id": "24d1d1db4f674657b374b898158f30df",
       "version_major": 2,
       "version_minor": 0
      },
      "text/plain": [
       "  0%|          | 0/150 [00:00<?, ?it/s]"
      ]
     },
     "metadata": {},
     "output_type": "display_data"
    },
    {
     "name": "stdout",
     "output_type": "stream",
     "text": [
      "train_xyd saved at ../data/web-google-dir-scc_half_noInf/train_xyd.pickle\n"
     ]
    },
    {
     "data": {
      "application/vnd.jupyter.widget-view+json": {
       "model_id": "f51c0102195e46dda772c02aa5fc7f2f",
       "version_major": 2,
       "version_minor": 0
      },
      "text/plain": [
       "  0%|          | 0/50 [00:00<?, ?it/s]"
      ]
     },
     "metadata": {},
     "output_type": "display_data"
    },
    {
     "name": "stdout",
     "output_type": "stream",
     "text": [
      "test_xyd saved at ../data/web-google-dir-scc_half_noInf/test_xyd.pickle\n"
     ]
    }
   ],
   "source": [
    "scc_small_noinf = gen_trval('web-google-dir-scc', size=(2500000, 150000), folder_suffix='half_noInf', ignore_inf=True)"
   ]
  },
  {
   "cell_type": "code",
   "execution_count": 30,
   "metadata": {},
   "outputs": [],
   "source": [
    "from sklearn.preprocessing import MinMaxScaler\n",
    "import pickle\n",
    "from sklearn.preprocessing import StandardScaler\n",
    "\n",
    "# TODO try standardization and no normalization also and compare result\n",
    "\n",
    "scaler = StandardScaler()\n",
    "# scaler = MinMaxScaler(feature_range=(0, 1))\n",
    "x_train = scaler.fit_transform(x_train)\n",
    "x_cv = scaler.transform(x_cv)\n",
    "x_test = scaler.transform(x_test)\n",
    "\n",
    "pickle.dump((x_train, y_train), open('../outputs/train_xy_no_sampling_stdScale.pk', 'wb'))\n",
    "pickle.dump((x_cv, y_cv), open('../outputs/val_xy_no_sampling_stdScale.pk', 'wb'))\n",
    "pickle.dump((x_test, y_test), open('../outputs/test_xy_no_sampling_stdScale.pk', 'wb'))"
   ]
  }
 ],
 "metadata": {
  "kernelspec": {
   "display_name": "Python 3",
   "language": "python",
   "name": "python3"
  },
  "language_info": {
   "codemirror_mode": {
    "name": "ipython",
    "version": 3
   },
   "file_extension": ".py",
   "mimetype": "text/x-python",
   "name": "python",
   "nbconvert_exporter": "python",
   "pygments_lexer": "ipython3",
   "version": "3.8.8"
  }
 },
 "nbformat": 4,
 "nbformat_minor": 4
}
