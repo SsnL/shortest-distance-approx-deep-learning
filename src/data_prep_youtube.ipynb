{
 "cells": [
  {
   "cell_type": "markdown",
   "metadata": {},
   "source": [
    "Data source: https://snap.stanford.edu/data/com-Youtube.html"
   ]
  },
  {
   "cell_type": "code",
   "execution_count": 6,
   "metadata": {},
   "outputs": [],
   "source": [
    "import networkx as nx\n",
    "import numpy as np\n",
    "import torch\n",
    "import os\n",
    "import seaborn\n",
    "\n",
    "import networkx as nx\n",
    "import numpy as np\n",
    "\n",
    "from tqdm.auto import tqdm\n",
    "import pickle\n",
    "import time\n",
    "\n",
    "import numpy as np\n",
    "import sys\n",
    "import pickle\n",
    "import seaborn as sns\n",
    "import matplotlib.pyplot as plt\n",
    "\n",
    "%matplotlib inline"
   ]
  },
  {
   "cell_type": "markdown",
   "metadata": {},
   "source": [
    "#### This notebook prepares the input data to be consumed by the Neural Network."
   ]
  },
  {
   "cell_type": "markdown",
   "metadata": {},
   "source": [
    "Run the cell below to extract the edgelist from .mtx file (the way Node2Vec expects the input). We will iterate through all the mtx files and create a corresponding .edgelist file"
   ]
  },
  {
   "cell_type": "code",
   "execution_count": 2,
   "metadata": {},
   "outputs": [
    {
     "name": "stdout",
     "output_type": "stream",
     "text": [
      "com-youtube-ungraph\t\t  web-google.7z\n",
      "com-youtube-ungraph-relabel\t  web-google-dir\n",
      "com-youtube-ungraph-relabel_half  web-google-dir.edges\n",
      "com-youtube-ungraph-relabel.txt   web-google-dir_half\n",
      "com-youtube-ungraph.txt\t\t  web-google-dir_half_noInf\n",
      "emb\t\t\t\t  web-google-dir-scc\n",
      "emb_np\t\t\t\t  web-google-dir-scc.edges\n",
      "readme.html\t\t\t  web-google-dir-scc_half\n",
      "readme.txt\t\t\t  web-google-dir-scc_half_noInf\n",
      "socfb-American75.edgelist\t  web-google-dir-wcc\n",
      "socfb-American75.mtx\t\t  web-google-dir-wcc.edges\n",
      "socfb-OR.edgelist\t\t  web-google-dir-wcc_half\n",
      "socfb-OR.mtx\t\t\t  web-google-dir-wcc_half_noInf\n",
      "web-BerkStan-relabel\t\t  web-google-dir.zip\n",
      "web-BerkStan-relabel-scc\t  web-google.edgelist\n",
      "web-BerkStan-relabel-scc_half\t  web-google.mtx\n",
      "web-BerkStan-relabel-scc.txt\t  web-Google.txt\n",
      "web-BerkStan-relabel.txt\t  web-Google.txt.gz\n",
      "web-BerkStan-relabel-wcc.txt\t  web-google.zip\n",
      "web-BerkStan.txt\n"
     ]
    }
   ],
   "source": [
    "!ls ../data"
   ]
  },
  {
   "cell_type": "markdown",
   "metadata": {},
   "source": [
    "The entire graph is all symmetrical SCC."
   ]
  },
  {
   "cell_type": "code",
   "execution_count": 20,
   "metadata": {},
   "outputs": [],
   "source": [
    "g = nx.read_edgelist('../data/com-youtube-ungraph.txt', nodetype=int, create_using=nx.Graph(), comments='#')"
   ]
  },
  {
   "cell_type": "code",
   "execution_count": 21,
   "metadata": {},
   "outputs": [
    {
     "data": {
      "text/plain": [
       "1134890"
      ]
     },
     "execution_count": 21,
     "metadata": {},
     "output_type": "execute_result"
    }
   ],
   "source": [
    "len(g.nodes)"
   ]
  },
  {
   "cell_type": "code",
   "execution_count": 22,
   "metadata": {},
   "outputs": [
    {
     "data": {
      "text/plain": [
       "2987624"
      ]
     },
     "execution_count": 22,
     "metadata": {},
     "output_type": "execute_result"
    }
   ],
   "source": [
    "len(g.edges)"
   ]
  },
  {
   "cell_type": "code",
   "execution_count": 23,
   "metadata": {},
   "outputs": [],
   "source": [
    "with open('../data/com-youtube-ungraph-relabel.txt', 'w') as f:\n",
    "    label_map = {n: rank + 1 for rank, n in enumerate(sorted(g.nodes))}\n",
    "    for i, j, _ in nx.to_edgelist(g):\n",
    "        i = label_map[i]\n",
    "        j = label_map[j]\n",
    "        print(f\"{i} {j}\", file=f)"
   ]
  },
  {
   "cell_type": "code",
   "execution_count": 3,
   "metadata": {},
   "outputs": [],
   "source": [
    "g = nx.read_edgelist('../data/com-youtube-ungraph-relabel.txt', nodetype=int, create_using=nx.Graph(), comments='#')"
   ]
  },
  {
   "cell_type": "code",
   "execution_count": 25,
   "metadata": {},
   "outputs": [
    {
     "data": {
      "text/plain": [
       "1134890"
      ]
     },
     "execution_count": 25,
     "metadata": {},
     "output_type": "execute_result"
    }
   ],
   "source": [
    "len(g.nodes)"
   ]
  },
  {
   "cell_type": "code",
   "execution_count": 26,
   "metadata": {},
   "outputs": [
    {
     "data": {
      "text/plain": [
       "2987624"
      ]
     },
     "execution_count": 26,
     "metadata": {},
     "output_type": "execute_result"
    }
   ],
   "source": [
    "len(g.edges)"
   ]
  },
  {
   "cell_type": "code",
   "execution_count": 27,
   "metadata": {},
   "outputs": [
    {
     "data": {
      "text/plain": [
       "1134890"
      ]
     },
     "execution_count": 27,
     "metadata": {},
     "output_type": "execute_result"
    }
   ],
   "source": [
    "max(g.nodes)"
   ]
  },
  {
   "cell_type": "code",
   "execution_count": 4,
   "metadata": {},
   "outputs": [],
   "source": [
    "dt2 = dict(nx.single_target_shortest_path_length(g, 2))"
   ]
  },
  {
   "cell_type": "code",
   "execution_count": 8,
   "metadata": {},
   "outputs": [
    {
     "data": {
      "text/plain": [
       "<seaborn.axisgrid.FacetGrid at 0x7fca3768e790>"
      ]
     },
     "execution_count": 8,
     "metadata": {},
     "output_type": "execute_result"
    },
    {
     "data": {
      "image/png": "[encoded data removed]",
      "text/plain": [
       "<Figure size 360x360 with 1 Axes>"
      ]
     },
     "metadata": {
      "needs_background": "light"
     },
     "output_type": "display_data"
    }
   ],
   "source": [
    "sns.displot(list(dt2.values()), binwidth=1)"
   ]
  },
  {
   "cell_type": "markdown",
   "metadata": {},
   "source": [
    "#### Calculate landmark distances using Networkx library, instead of shitty own implementation"
   ]
  },
  {
   "cell_type": "code",
   "execution_count": 19,
   "metadata": {},
   "outputs": [
    {
     "data": {
      "text/plain": [
       "1"
      ]
     },
     "execution_count": 19,
     "metadata": {},
     "output_type": "execute_result"
    }
   ],
   "source": [
    "min(g.nodes)"
   ]
  },
  {
   "cell_type": "code",
   "execution_count": 28,
   "metadata": {},
   "outputs": [],
   "source": [
    "import glob\n",
    "\n",
    "def gen_trval(graph_name, num_landmarks=(150, 50), size=(5000000, 150000), is_directed=False, folder_suffix=None):\n",
    "    if folder_suffix is None:\n",
    "        folder_suffix = ''\n",
    "    else:\n",
    "        folder_suffix = '_' + folder_suffix\n",
    "        \n",
    "    os.makedirs(f'../data/{graph_name}{folder_suffix}', exist_ok=True)\n",
    "    \n",
    "    fs = glob.glob(f'../data/{graph_name}/landmark_distance_map_*.pickle')\n",
    "    if len(fs) == 0:\n",
    "        np.random.seed(999)\n",
    "        edgelist_path = f'../data/{graph_name}.txt'\n",
    "        graph = nx.read_edgelist(edgelist_path, nodetype=int, create_using=(nx.DiGraph() if is_directed else nx.Graph()), \n",
    "                                 comments='#')\n",
    "\n",
    "        tr_num_lmks, te_num_lmks = num_landmarks\n",
    "\n",
    "        nodes = list(graph.nodes)  # [int(i) for i in list(graph.nodes)]\n",
    "        landmarks = np.random.choice(len(nodes), sum(num_landmarks), replace=False) + 1\n",
    "\n",
    "        distance_map = {}\n",
    "        distances = np.zeros((len(nodes), ))\n",
    "\n",
    "        for landmark in tqdm(landmarks):\n",
    "            distances[:] = np.inf\n",
    "            from_lmk = dict(nx.single_source_shortest_path_length(graph, landmark))\n",
    "            for key, value in from_lmk.items():\n",
    "                distances[key-1] = value  # since node labels start from 1.\n",
    "            from_lmk = distances.copy()\n",
    "\n",
    "            distances[:] = np.inf\n",
    "            if graph.is_directed():\n",
    "                to_lmk = dict(nx.single_target_shortest_path_length(graph, landmark))\n",
    "                for key, value in to_lmk.items():\n",
    "                    distances[key-1] = value  # since node labels start from 1.\n",
    "                to_lmk = distances.copy()\n",
    "            else:\n",
    "                to_lmk = None\n",
    "\n",
    "            distance_map[landmark] = dict(\n",
    "                as_source=from_lmk, as_target=to_lmk)\n",
    "\n",
    "        save_path = f'../data/{graph_name}/landmark_distance_map_{time.time()}.pickle'\n",
    "        with open(save_path, 'wb') as f:\n",
    "            pickle.dump(dict(\n",
    "                landmarks=landmarks,\n",
    "                distance_map=distance_map,\n",
    "            ), f)\n",
    "        print('landmark_distance_map saved at', save_path)\n",
    "    else:\n",
    "        assert len(fs) == 1\n",
    "        with open(fs[0], 'rb') as f:\n",
    "            landmark_distance_map = pickle.load(f)\n",
    "        landmarks = landmark_distance_map['landmarks']\n",
    "        assert len(landmarks) == sum(num_landmarks)\n",
    "        distance_map = landmark_distance_map['distance_map']\n",
    "        print('landmark_distance_map loaded from', fs[0])\n",
    "\n",
    "    fs = glob.glob(f'../data/{graph_name}/emb_np.pickle')\n",
    "    if len(fs) == 0:\n",
    "        emd_path = f'../data/{graph_name}/emb.emd'\n",
    "        emd_map = {}\n",
    "        with open(emd_path, 'r') as file:\n",
    "            lines = file.readlines()\n",
    "            for line in lines[1:]:\n",
    "                temp = line.split(' ')\n",
    "                emd_map[np.int(temp[0])] = np.array(temp[1:], dtype=np.float32)\n",
    "\n",
    "        save_path = f'../data/{graph_name}/emb_np.pickle'\n",
    "        with open(save_path, 'wb') as f:\n",
    "            pickle.dump(emd_map, f)\n",
    "        print('emd_map saved at', save_path)\n",
    "    else:\n",
    "        assert len(fs) == 1\n",
    "        with open(fs[0], 'rb') as f:\n",
    "            emd_map = pickle.load(f)\n",
    "        print('emd_map loaded from', fs[0])\n",
    "        \n",
    "    print('size of emd_map:', sys.getsizeof(emd_map)/1024/1024,'MB')\n",
    "    print('size of distance_map:', sys.getsizeof(distance_map)/1024/1024,'MB')\n",
    "    \n",
    "    def build_xyd_from_lmks(landmarks, size, seed):\n",
    "        landmarks = sorted(landmarks)\n",
    "        set_landmarks = set(landmarks)\n",
    "        x = []\n",
    "        y = []\n",
    "        d = []\n",
    "        for lmk in tqdm(landmarks):\n",
    "            for other, dist in enumerate(distance_map[lmk]['as_source'], 1):\n",
    "                if other in set_landmarks and other < lmk:\n",
    "                    continue\n",
    "                x.append(emd_map[lmk])\n",
    "                y.append(emd_map[other])\n",
    "                d.append(dist)\n",
    "            if distance_map[lmk]['as_target'] is not None:\n",
    "                for other, dist in enumerate(distance_map[lmk]['as_source'], 1):\n",
    "                    if other in set_landmarks and other < lmk:\n",
    "                        continue\n",
    "                    x.append(emd_map[other])\n",
    "                    y.append(emd_map[lmk])\n",
    "                    d.append(dist)\n",
    "        assert len(x) >= size\n",
    "        np.random.seed(seed)\n",
    "        indices = np.random.permutation(len(x))[:size]\n",
    "        x = np.stack([x[i] for i in indices])\n",
    "        y = np.stack([y[i] for i in indices])\n",
    "        d = np.asarray([d[i] for i in indices], dtype=np.float32)\n",
    "        \n",
    "        return x, y, d\n",
    "\n",
    "    fs = glob.glob(f'../data/{graph_name}{folder_suffix}/train_xyd.pickle')\n",
    "    if len(fs) == 0:\n",
    "        train_xyd = build_xyd_from_lmks(landmarks[:num_landmarks[0]], size[0], seed=213)\n",
    "        \n",
    "        save_path = f'../data/{graph_name}{folder_suffix}/train_xyd.pickle'\n",
    "        with open(save_path, 'wb') as f:\n",
    "            pickle.dump(train_xyd, f)\n",
    "        print('train_xyd saved at', save_path)\n",
    "    else:\n",
    "        assert len(fs) == 1\n",
    "        with open(fs[0], 'rb') as f:\n",
    "            train_xyd = pickle.load(f)\n",
    "            assert train_xyd[0].shape[0] == size[0]\n",
    "        print('train_xyd loaded from', fs[0])\n",
    "\n",
    "    fs = glob.glob(f'../data/{graph_name}{folder_suffix}/test_xyd.pickle')\n",
    "    if len(fs) == 0:\n",
    "        test_xyd = build_xyd_from_lmks(landmarks[-num_landmarks[1]:], size[1], seed=1213)\n",
    "        \n",
    "        save_path = f'../data/{graph_name}{folder_suffix}/test_xyd.pickle'\n",
    "        with open(save_path, 'wb') as f:\n",
    "            pickle.dump(test_xyd, f)\n",
    "        print('test_xyd saved at', save_path)\n",
    "    else:\n",
    "        assert len(fs) == 1\n",
    "        with open(fs[0], 'rb') as f:\n",
    "            test_xyd = pickle.load(f)\n",
    "            assert test_xyd[0].shape[0] == size[1]\n",
    "        print('test_xyd loaded from', fs[0])\n",
    "        \n",
    "    return distance_map, emd_map, train_xyd, test_xyd"
   ]
  },
  {
   "cell_type": "code",
   "execution_count": 30,
   "metadata": {},
   "outputs": [
    {
     "name": "stdout",
     "output_type": "stream",
     "text": [
      "landmark_distance_map loaded from ../data/com-youtube-ungraph-relabel/landmark_distance_map_1620767444.4448657.pickle\n",
      "emd_map saved at ../data/com-youtube-ungraph-relabel/emb_np.pickle\n",
      "size of emd_map: 40.000091552734375 MB\n",
      "size of distance_map: 0.008880615234375 MB\n"
     ]
    },
    {
     "data": {
      "application/vnd.jupyter.widget-view+json": {
       "model_id": "586676b3f0e6454496083758a75a37fa",
       "version_major": 2,
       "version_minor": 0
      },
      "text/plain": [
       "  0%|          | 0/150 [00:00<?, ?it/s]"
      ]
     },
     "metadata": {},
     "output_type": "display_data"
    },
    {
     "name": "stdout",
     "output_type": "stream",
     "text": [
      "train_xyd saved at ../data/com-youtube-ungraph-relabel/train_xyd.pickle\n"
     ]
    },
    {
     "data": {
      "application/vnd.jupyter.widget-view+json": {
       "model_id": "fd9c70ab410b4c3285519f6c3d43188f",
       "version_major": 2,
       "version_minor": 0
      },
      "text/plain": [
       "  0%|          | 0/50 [00:00<?, ?it/s]"
      ]
     },
     "metadata": {},
     "output_type": "display_data"
    },
    {
     "name": "stdout",
     "output_type": "stream",
     "text": [
      "test_xyd saved at ../data/com-youtube-ungraph-relabel/test_xyd.pickle\n"
     ]
    }
   ],
   "source": [
    "full = gen_trval('com-youtube-ungraph-relabel')"
   ]
  },
  {
   "cell_type": "code",
   "execution_count": 31,
   "metadata": {},
   "outputs": [
    {
     "name": "stdout",
     "output_type": "stream",
     "text": [
      "landmark_distance_map loaded from ../data/com-youtube-ungraph-relabel/landmark_distance_map_1620767444.4448657.pickle\n",
      "emd_map loaded from ../data/com-youtube-ungraph-relabel/emb_np.pickle\n",
      "size of emd_map: 40.000091552734375 MB\n",
      "size of distance_map: 0.008880615234375 MB\n"
     ]
    },
    {
     "data": {
      "application/vnd.jupyter.widget-view+json": {
       "model_id": "2dc954643a6f46bdb41bd183f189b5ec",
       "version_major": 2,
       "version_minor": 0
      },
      "text/plain": [
       "  0%|          | 0/150 [00:00<?, ?it/s]"
      ]
     },
     "metadata": {},
     "output_type": "display_data"
    },
    {
     "name": "stdout",
     "output_type": "stream",
     "text": [
      "train_xyd saved at ../data/com-youtube-ungraph-relabel_half/train_xyd.pickle\n"
     ]
    },
    {
     "data": {
      "application/vnd.jupyter.widget-view+json": {
       "model_id": "4a1c5e3bde344f9ab264c224286cdd18",
       "version_major": 2,
       "version_minor": 0
      },
      "text/plain": [
       "  0%|          | 0/50 [00:00<?, ?it/s]"
      ]
     },
     "metadata": {},
     "output_type": "display_data"
    },
    {
     "name": "stdout",
     "output_type": "stream",
     "text": [
      "test_xyd saved at ../data/com-youtube-ungraph-relabel_half/test_xyd.pickle\n"
     ]
    }
   ],
   "source": [
    "small = gen_trval('com-youtube-ungraph-relabel', size=(2500000, 150000), folder_suffix='half')"
   ]
  },
  {
   "cell_type": "code",
   "execution_count": null,
   "metadata": {},
   "outputs": [],
   "source": []
  }
 ],
 "metadata": {
  "kernelspec": {
   "display_name": "Python 3",
   "language": "python",
   "name": "python3"
  },
  "language_info": {
   "codemirror_mode": {
    "name": "ipython",
    "version": 3
   },
   "file_extension": ".py",
   "mimetype": "text/x-python",
   "name": "python",
   "nbconvert_exporter": "python",
   "pygments_lexer": "ipython3",
   "version": "3.8.8"
  }
 },
 "nbformat": 4,
 "nbformat_minor": 4
}
